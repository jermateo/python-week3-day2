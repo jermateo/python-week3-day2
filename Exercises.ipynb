{
 "cells": [
  {
   "cell_type": "markdown",
   "metadata": {},
   "source": [
    "#### Exercise 1 - Class Inheritance"
   ]
  },
  {
   "cell_type": "markdown",
   "metadata": {},
   "source": [
    "Create an Employee class that sets an employee's first name, last name, job title, salary, and email. The Employee class should have a class attribute for the raise amount set to 5% (1.05). Create a method that will apply the raise to an employee's salary."
   ]
  },
  {
   "cell_type": "code",
   "execution_count": 2,
   "metadata": {},
   "outputs": [],
   "source": [
    "class Employee:\n",
    "    \n",
    "    raise_amount = 1.05\n",
    "    \n",
    "    def __init__(self, first_name, last_name, job_title, salary):\n",
    "        self.first_name = first_name\n",
    "        self.last_name = last_name\n",
    "        self.job_title = job_title\n",
    "        self.salary = salary\n",
    "        self.email = first_name + \".\" + last_name + \"@company.org\"\n",
    "        \n",
    "    def apply_raise(self):\n",
    "        self.salary = int(self.salary * self.raise_amount)\n",
    "        return f\"Congratulations, {self.first_name.title()} {self.last_name.title()}, your salary has increased to {self.salary}.\""
   ]
  },
  {
   "cell_type": "markdown",
   "metadata": {},
   "source": [
    "Create two more classes that inherit from the Employee class. One for Sales and one for Development. Both of these classes will have the same attributes as the Employee.<br>\n",
    "- For the Sales employees, add a phone number attribute on instantiation using the super method. \n",
    "- Create a method on the Sales class that will Send a Follow Up Email. It should take in a customer name and \"send\" aka print a formatted email \"Dear *customer*, Thank you for your interest in our product. Please let me know if you have any questions. My email is *email* or my phone number is *phone number*. Thanks, *full name*\"\n",
    "- Create a method on the Development class called code that will print out \"*full name* is writing code\"."
   ]
  },
  {
   "cell_type": "code",
   "execution_count": 12,
   "metadata": {},
   "outputs": [],
   "source": [
    "class Sales(Employee):\n",
    "    def __init__(self, first_name, last_name, job_title, salary, phone_number):\n",
    "        super().__init__(first_name, last_name, job_title, salary)\n",
    "        self.phone_number = phone_number\n",
    "        \n",
    "    def follow_up(self, customer_name):\n",
    "        self.customer_name = customer_name\n",
    "        return f\"Dear {self.customer_name}, thank you for your interest in our product. Please let me know if you have any questions. My email is {self.email} or my phone number is {self.phone_number}. Thanks, {self.first_name} {self.last_name}.\"\n",
    "\n",
    "class Development(Employee):\n",
    "    def __init__(self, first_name, last_name, job_title, salary):\n",
    "        super().__init__(first_name, last_name, job_title, salary)\n",
    "        \n",
    "    def __str__(self):\n",
    "        return f\"{self.first_name.title()} {self.last_name.title()} is writing code.\"\n",
    "        "
   ]
  },
  {
   "cell_type": "code",
   "execution_count": 23,
   "metadata": {},
   "outputs": [
    {
     "data": {
      "text/plain": [
       "'Congratulations, Jeremy Mateo, your salary has increased to 89250.'"
      ]
     },
     "execution_count": 23,
     "metadata": {},
     "output_type": "execute_result"
    }
   ],
   "source": [
    "person1 = Employee('Jeremy', 'Mateo', 'Jr. Software Developer', 85000)\n",
    "person1.apply_raise()"
   ]
  },
  {
   "cell_type": "markdown",
   "metadata": {},
   "source": [
    "- Create an instance of a Sales Employee with a salary of $50,000.\n",
    "- Send follow up emails to \"Mike O'Neil\" and \"Hannah Stern\"\n",
    "- Give the employee a raise and print the salary"
   ]
  },
  {
   "cell_type": "code",
   "execution_count": 8,
   "metadata": {},
   "outputs": [
    {
     "name": "stdout",
     "output_type": "stream",
     "text": [
      "Dear Mike O'Neil, thank you for your interest in our product. Please let me know if you have any questions. My email is Jeremy.Mateo@company.org or my phone number is 2067797091. Thanks, Jeremy Mateo.\n",
      "Dear Hannah Stern, thank you for your interest in our product. Please let me know if you have any questions. My email is Jeremy.Mateo@company.org or my phone number is 2067797091. Thanks, Jeremy Mateo.\n",
      "Congratulations, Jeremy Mateo, your salary has increased to 89250.\n"
     ]
    }
   ],
   "source": [
    "employee1 = Sales('Jeremy', 'Mateo', 'Jr. Software Developer', 50000, '2067797091')\n",
    "print(employee1.follow_up(\"Mike O'Neil\"))\n",
    "print(employee1.follow_up(\"Hannah Stern\"))\n",
    "print(employee1.apply_raise())"
   ]
  },
  {
   "cell_type": "markdown",
   "metadata": {},
   "source": [
    "- Create an instance of a Development Employee with a salary of $100,000\n",
    "- Write some code with this employee\n",
    "- Give the employee a raise and print the salary"
   ]
  },
  {
   "cell_type": "code",
   "execution_count": 14,
   "metadata": {},
   "outputs": [
    {
     "name": "stdout",
     "output_type": "stream",
     "text": [
      "Johnathan Schroeder is writing code.\n",
      "Congratulations, Johnathan Schroeder, your salary has increased to 105000.\n"
     ]
    }
   ],
   "source": [
    "employee2 = Development('Johnathan', 'Schroeder', 'Jr. Software Developer', 100000)\n",
    "print(employee2)\n",
    "print(employee2.apply_raise())"
   ]
  },
  {
   "cell_type": "markdown",
   "metadata": {},
   "source": [
    "#### Exercise 2 - Importing Modules"
   ]
  },
  {
   "cell_type": "markdown",
   "metadata": {},
   "source": [
    "In VS Code, create a module titled `geometry` and add two functions in there. One that will calculate the area of a circle given a radius. The second will find the hypotenuse of a right angle given the two sides. Import the module or the functions from the module and use it to find the answers to the below questions"
   ]
  },
  {
   "cell_type": "markdown",
   "metadata": {},
   "source": [
    "What is the area of a circle with a radius of 7cm?"
   ]
  },
  {
   "cell_type": "code",
   "execution_count": 38,
   "metadata": {},
   "outputs": [
    {
     "name": "stdout",
     "output_type": "stream",
     "text": [
      "153.93804002589985\n"
     ]
    }
   ],
   "source": [
    "import geometry\n",
    "print(geometry.circle_area(7))"
   ]
  },
  {
   "cell_type": "markdown",
   "metadata": {},
   "source": [
    "What is the hypotenuse of a right angle with sides of 3in and 4in?"
   ]
  },
  {
   "cell_type": "code",
   "execution_count": 16,
   "metadata": {},
   "outputs": [
    {
     "name": "stdout",
     "output_type": "stream",
     "text": [
      "5.0\n"
     ]
    }
   ],
   "source": [
    "import geometry\n",
    "print(geometry.tri_hypotenuse(3, 4))"
   ]
  }
 ],
 "metadata": {
  "kernelspec": {
   "display_name": "Python 3 (ipykernel)",
   "language": "python",
   "name": "python3"
  },
  "language_info": {
   "codemirror_mode": {
    "name": "ipython",
    "version": 3
   },
   "file_extension": ".py",
   "mimetype": "text/x-python",
   "name": "python",
   "nbconvert_exporter": "python",
   "pygments_lexer": "ipython3",
   "version": "3.10.9"
  }
 },
 "nbformat": 4,
 "nbformat_minor": 4
}
